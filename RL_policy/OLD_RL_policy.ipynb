{
 "cells": [
  {
   "cell_type": "code",
   "execution_count": 1,
   "metadata": {},
   "outputs": [],
   "source": [
    "import pandas as pd\n",
    "import numpy as np"
   ]
  },
  {
   "cell_type": "code",
   "execution_count": 2,
   "metadata": {},
   "outputs": [
    {
     "data": {
      "text/html": [
       "<style>.container { width:100% !important; }</style>"
      ],
      "text/plain": [
       "<IPython.core.display.HTML object>"
      ]
     },
     "metadata": {},
     "output_type": "display_data"
    }
   ],
   "source": [
    "from IPython.display import display, HTML\n",
    "display(HTML(\"<style>.container { width:100% !important; }</style>\"))"
   ]
  },
  {
   "cell_type": "code",
   "execution_count": 3,
   "metadata": {},
   "outputs": [],
   "source": [
    "df = pd.read_csv(\"df.csv\")"
   ]
  },
  {
   "cell_type": "code",
   "execution_count": null,
   "metadata": {},
   "outputs": [],
   "source": []
  },
  {
   "cell_type": "code",
   "execution_count": 4,
   "metadata": {},
   "outputs": [
    {
     "name": "stdout",
     "output_type": "stream",
     "text": [
      "82.53013333333332\n"
     ]
    }
   ],
   "source": [
    "print(df.kwh_eq_state.max())"
   ]
  },
  {
   "cell_type": "code",
   "execution_count": 5,
   "metadata": {},
   "outputs": [],
   "source": [
    "max_storage_tank = 82.53\n",
    "optimum_storage = 50.00\n",
    "gamma = 0.025"
   ]
  },
  {
   "cell_type": "code",
   "execution_count": 6,
   "metadata": {},
   "outputs": [],
   "source": [
    "def step(s, thermal_consumption, a):\n",
    "    '''\n",
    "    action = [0; 82.53]\n",
    "    '''\n",
    "    cool_down = 0.1 \n",
    "    heat_increase = a - cool_down\n",
    "    s_1 = s + heat_increase - thermal_consumption\n",
    "    \n",
    "    if s_1 > max_storage_tank:\n",
    "        s_1 = max_storage_tank\n",
    "        \n",
    "    return s_1"
   ]
  },
  {
   "cell_type": "code",
   "execution_count": 7,
   "metadata": {},
   "outputs": [],
   "source": [
    "def reward(action, pv_excess, demand_price, feedin_price, power_consumption, thermal_consumption, state):\n",
    "    \n",
    "    kwh_increase = action\n",
    "    \n",
    "    if state+kwh_increase > max_storage_tank:\n",
    "        kwh_increase = max_storage_tank - state\n",
    "    \n",
    "    '''\n",
    "    ! VORZEICHEN DER VARIABLEN !\n",
    "    '''\n",
    "    \n",
    "    diff = pv_excess - kwh_increase - power_consumption - thermal_consumption    \n",
    "        \n",
    "    if diff < 0:\n",
    "        reward = -(diff * demand_price + (kwh_increase - diff) * feedin_price)\n",
    "    else:\n",
    "        reward = -(kwh_increase * feedin_price)  + diff * feedin_price\n",
    "        \n",
    "    add_penalty=10\n",
    "    if state < 40.00:\n",
    "        reward= reward -add_penalty\n",
    "        \n",
    "    '''\n",
    "    PENALTY FOR DISTANCE TO OPTIMUM\n",
    "    '''\n",
    "    reward -= abs(state - optimum_storage)*gamma\n",
    "    \n",
    "    \n",
    "    return reward"
   ]
  },
  {
   "cell_type": "markdown",
   "metadata": {},
   "source": [
    "Develop Tree Storage"
   ]
  },
  {
   "cell_type": "code",
   "execution_count": 111,
   "metadata": {},
   "outputs": [
    {
     "data": {
      "text/plain": [
       "(array([0., 0., 1., ..., 1., 0., 1.]), 1048577)"
      ]
     },
     "execution_count": 111,
     "metadata": {},
     "output_type": "execute_result"
    }
   ],
   "source": [
    "levels = 19\n",
    "\n",
    "tree = np.array([0,11,13,2,8,4,20,3,8,20,11,5,4,10,9])\n",
    "\n",
    "\n",
    "tree = np.zeros(2**(levels+1)-1,)\n",
    "\n",
    "\n",
    "tree[::2] =1\n",
    "tree = np.insert(tree, 0, 0)\n",
    "tree = np.insert(tree, 0, 0)\n",
    "\n",
    "\n",
    "\n",
    "res_sum = np.zeros(len(tree))\n",
    "states = np.zeros(len(tree))\n",
    "states[0] = 41.00\n",
    "\n",
    "tree, len(tree)"
   ]
  },
  {
   "cell_type": "code",
   "execution_count": 112,
   "metadata": {
    "scrolled": true
   },
   "outputs": [
    {
     "name": "stdout",
     "output_type": "stream",
     "text": [
      "0 0\n",
      "1 1\n",
      "2 3\n",
      "3 7\n",
      "4 15\n",
      "5 31\n",
      "6 63\n",
      "7 127\n",
      "8 255\n",
      "9 511\n",
      "10 1023\n",
      "11 2047\n",
      "12 4095\n",
      "13 8191\n",
      "14 16383\n",
      "15 32767\n",
      "16 65535\n",
      "17 131071\n",
      "18 262143\n"
     ]
    }
   ],
   "source": [
    "nodes = 1\n",
    "run = 0\n",
    "for i in range(levels):    \n",
    "    print(i,run)\n",
    "    for n in range(nodes):\n",
    "        \n",
    "        i = run\n",
    "        root = tree[i]\n",
    "        result_root = res_sum[i]\n",
    "        state_root = states[i]\n",
    "        \n",
    "        \n",
    "        left = tree[i*2 +1]\n",
    "        right = tree[i*2 +2]\n",
    "        \n",
    "        '''\n",
    "        reward(action, pv_excess, demand_price, feedin_price, power_consumption, thermal_consumption, state)\n",
    "        '''\n",
    "        \n",
    "        res_sum[i*2 +1] = result_root + reward(left, 2.5,0.4,0.1, 0.1,0.1, state_root)\n",
    "        res_sum[i*2 +2] = result_root + reward(right,2.5 ,0.4,0.1, 0.1,0.1, state_root)\n",
    "        \n",
    "        '''\n",
    "        step(s, thermal_consumption, a)\n",
    "        '''\n",
    "        \n",
    "        states[i*2 +1] = step(state_root, 0.1, left)\n",
    "        states[i*2 +2] = step(state_root, 0.1, right)\n",
    "        \n",
    "        \n",
    "        run +=1\n",
    "        \n",
    "    nodes *= 2"
   ]
  },
  {
   "cell_type": "code",
   "execution_count": 113,
   "metadata": {},
   "outputs": [
    {
     "name": "stdout",
     "output_type": "stream",
     "text": [
      "785920 786431\n"
     ]
    },
    {
     "data": {
      "text/plain": [
       "0.6149999999999873"
      ]
     },
     "execution_count": 113,
     "metadata": {},
     "output_type": "execute_result"
    }
   ],
   "source": [
    "leaves = res_sum[262143:-3]\n",
    "\n",
    "\n",
    "print(leaves.argmax(), len(leaves))\n",
    "\n",
    "b_i = leaves.argmax() \n",
    "leaves.max()"
   ]
  },
  {
   "cell_type": "code",
   "execution_count": 114,
   "metadata": {},
   "outputs": [],
   "source": [
    "def backtrack_seq(tree, idx, levels):\n",
    "    seq = []\n",
    "    for i in range(levels):\n",
    "\n",
    "        action_tmp = tree[int(idx)]\n",
    "        \n",
    "        if i == 0:\n",
    "            seq.append(action_tmp)\n",
    "        \n",
    "        if action_tmp == 0:\n",
    "            i_add = -1\n",
    "        if action_tmp == 1:\n",
    "            i_add = -2\n",
    "        \n",
    "        \n",
    "        idx = (idx + i_add )/2 \n",
    "        a = tree[int(idx)]\n",
    "        \n",
    "        seq.append(a)\n",
    "    \n",
    "    return np.flip(seq)[1:]"
   ]
  },
  {
   "cell_type": "code",
   "execution_count": 115,
   "metadata": {},
   "outputs": [
    {
     "name": "stdout",
     "output_type": "stream",
     "text": [
      "sum rewards:  0.6149999999999873\n",
      "idx:  785920\n",
      "[1. 1. 1. 1. 1. 1. 1. 1. 1. 1. 0. 0. 0. 0. 0. 0. 0. 0. 0.] 10.0\n",
      "47.199999999999946\n"
     ]
    }
   ],
   "source": [
    "seq_ = backtrack_seq(tree, b_i+262143 , levels)\n",
    "print(\"sum rewards: \",leaves[b_i])\n",
    "print(\"idx: \", b_i)\n",
    "print(seq_, sum(seq_))\n",
    "print(states[b_i+262143])\n"
   ]
  },
  {
   "cell_type": "code",
   "execution_count": 116,
   "metadata": {},
   "outputs": [
    {
     "data": {
      "text/plain": [
       "array([ 0.   ,  0.005, -0.195, ..., -1.335,  0.   ,  0.   ])"
      ]
     },
     "execution_count": 116,
     "metadata": {},
     "output_type": "execute_result"
    }
   ],
   "source": [
    "res_sum"
   ]
  },
  {
   "cell_type": "code",
   "execution_count": 117,
   "metadata": {},
   "outputs": [
    {
     "data": {
      "text/plain": [
       "47.2"
      ]
     },
     "execution_count": 117,
     "metadata": {},
     "output_type": "execute_result"
    }
   ],
   "source": [
    "x = 10\n",
    "41+x*0.8-(19-x)*0.2"
   ]
  },
  {
   "cell_type": "markdown",
   "metadata": {},
   "source": [
    "<h1>Backup Base Tree Storage</h1>"
   ]
  },
  {
   "cell_type": "code",
   "execution_count": 118,
   "metadata": {},
   "outputs": [
    {
     "data": {
      "text/plain": [
       "(array([0., 0., 1., 0., 1., 0., 1., 0., 1., 0., 1., 0., 1., 0., 1., 0., 1.,\n",
       "        0., 1., 0., 1., 0., 1., 0., 1., 0., 1., 0., 1., 0., 1., 0., 1.]),\n",
       " 33)"
      ]
     },
     "execution_count": 118,
     "metadata": {},
     "output_type": "execute_result"
    }
   ],
   "source": [
    "levels = 4\n",
    "\n",
    "#tree = np.array([0,11,13,2,8,4,20,3,8,20,11,5,4,10,9])\n",
    "#tree = np.ones(2**5-1)\n",
    "\n",
    "tree = np.zeros(2**5-1)\n",
    "tree[::2] =1\n",
    "tree = np.insert(tree, 0, 0)\n",
    "tree = np.insert(tree, 0, 0)\n",
    "\n",
    "res_sum = np.zeros(len(tree))\n",
    "tree, len(tree)"
   ]
  },
  {
   "cell_type": "code",
   "execution_count": 119,
   "metadata": {},
   "outputs": [],
   "source": [
    "nodes = 1\n",
    "run = 0\n",
    "for i in range(levels):    \n",
    "    for n in range(nodes):\n",
    "        \n",
    "        i = run\n",
    "        root = tree[i]\n",
    "        \n",
    "        \n",
    "        left = tree[i*2 +1]\n",
    "        right = tree[i*2 +2]\n",
    "\n",
    "        result_root = res_sum[i]\n",
    "\n",
    "\n",
    "        #print(i, root, left,right)\n",
    "        \n",
    "\n",
    "        res_sum[i*2 +1] = result_root + left\n",
    "        res_sum[i*2 +2] = result_root + right\n",
    "        \n",
    "        run +=1\n",
    "        \n",
    "    nodes *= 2"
   ]
  },
  {
   "cell_type": "code",
   "execution_count": 120,
   "metadata": {},
   "outputs": [
    {
     "name": "stdout",
     "output_type": "stream",
     "text": [
      "(33,)\n"
     ]
    },
    {
     "data": {
      "text/plain": [
       "1.0"
      ]
     },
     "execution_count": 120,
     "metadata": {},
     "output_type": "execute_result"
    }
   ],
   "source": [
    "print(res_sum.shape)\n",
    "res_sum[23]"
   ]
  },
  {
   "cell_type": "code",
   "execution_count": 121,
   "metadata": {},
   "outputs": [],
   "source": [
    "def backtrack_seq(tree, idx, levels):\n",
    "    seq = []\n",
    "    for i in range(levels):\n",
    "\n",
    "        action_tmp = tree[int(idx)]\n",
    "        \n",
    "        if i == 0:\n",
    "            seq.append(action_tmp)\n",
    "        \n",
    "        if action_tmp == 0:\n",
    "            i_add = -1\n",
    "        if action_tmp == 1:\n",
    "            i_add = -2\n",
    "        \n",
    "        \n",
    "        idx = (idx + i_add )/2 \n",
    "        a = tree[int(idx)]\n",
    "        \n",
    "        seq.append(a)\n",
    "    \n",
    "    return np.flip(seq)[1:]"
   ]
  },
  {
   "cell_type": "code",
   "execution_count": 122,
   "metadata": {},
   "outputs": [
    {
     "data": {
      "text/plain": [
       "1.0"
      ]
     },
     "execution_count": 122,
     "metadata": {},
     "output_type": "execute_result"
    }
   ],
   "source": [
    "tree[10]"
   ]
  },
  {
   "cell_type": "code",
   "execution_count": 123,
   "metadata": {},
   "outputs": [
    {
     "name": "stdout",
     "output_type": "stream",
     "text": [
      "[1. 1. 1. 0.]\n"
     ]
    }
   ],
   "source": [
    "print(backtrack_seq(tree, 29 , 4))"
   ]
  },
  {
   "cell_type": "code",
   "execution_count": 42,
   "metadata": {},
   "outputs": [
    {
     "data": {
      "text/plain": [
       "array([1., 1., 1., ..., 1., 1., 1.])"
      ]
     },
     "execution_count": 42,
     "metadata": {},
     "output_type": "execute_result"
    }
   ],
   "source": [
    "np.ones(2**30)   # 8GB RAM equivalent"
   ]
  },
  {
   "cell_type": "markdown",
   "metadata": {},
   "source": [
    "https://www.edureka.co/community/18855/numpy-multiplying-large-arrays-with-dtype-int8-is-slow"
   ]
  },
  {
   "cell_type": "code",
   "execution_count": 63,
   "metadata": {},
   "outputs": [
    {
     "name": "stdout",
     "output_type": "stream",
     "text": [
      "Memory size of numpy array in MB: 1.048576\n",
      "Memory size of numpy array in MB: 4.194304 | Tracked time demo run: 40sec\n",
      "Memory size of numpy array in MB: 8.388608 | Tracked time demo run: 13sec\n"
     ]
    }
   ],
   "source": [
    "d = np.ones(2**20, dtype=\"u1\")\n",
    "print(\"Memory size of numpy array in MB:\",d.size * d.itemsize/1000000)\n",
    "\n",
    "d = np.ones(2**20, dtype=\"float32\")\n",
    "print(\"Memory size of numpy array in MB:\",d.size * d.itemsize/1000000, \"| Tracked time demo run: 40sec\")\n",
    "\n",
    "d = np.ones(2**20)\n",
    "print(\"Memory size of numpy array in MB:\",d.size * d.itemsize/1000000, \"| Tracked time demo run: 13sec\")"
   ]
  },
  {
   "cell_type": "code",
   "execution_count": null,
   "metadata": {},
   "outputs": [],
   "source": []
  }
 ],
 "metadata": {
  "kernelspec": {
   "display_name": "Python 3 (ipykernel)",
   "language": "python",
   "name": "python3"
  },
  "language_info": {
   "codemirror_mode": {
    "name": "ipython",
    "version": 3
   },
   "file_extension": ".py",
   "mimetype": "text/x-python",
   "name": "python",
   "nbconvert_exporter": "python",
   "pygments_lexer": "ipython3",
   "version": "3.9.12"
  },
  "vscode": {
   "interpreter": {
    "hash": "1335a209088fba08ed1ec7ee6e9c6b845cf55524ee893ab338ddd70a4ed03024"
   }
  }
 },
 "nbformat": 4,
 "nbformat_minor": 2
}
