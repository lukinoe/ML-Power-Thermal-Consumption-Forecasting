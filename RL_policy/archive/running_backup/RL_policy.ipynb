{
 "cells": [
  {
   "cell_type": "code",
   "execution_count": 7,
   "metadata": {},
   "outputs": [],
   "source": [
    "import pandas as pd\n",
    "import numpy as np"
   ]
  },
  {
   "cell_type": "code",
   "execution_count": 8,
   "metadata": {},
   "outputs": [
    {
     "data": {
      "text/html": [
       "<style>.container { width:100% !important; }</style>"
      ],
      "text/plain": [
       "<IPython.core.display.HTML object>"
      ]
     },
     "metadata": {},
     "output_type": "display_data"
    }
   ],
   "source": [
    "from IPython.display import display, HTML\n",
    "display(HTML(\"<style>.container { width:100% !important; }</style>\"))"
   ]
  },
  {
   "cell_type": "code",
   "execution_count": 9,
   "metadata": {},
   "outputs": [],
   "source": [
    "df = pd.read_csv(\"df.csv\")"
   ]
  },
  {
   "cell_type": "code",
   "execution_count": 10,
   "metadata": {},
   "outputs": [
    {
     "data": {
      "text/html": [
       "<div>\n",
       "<style scoped>\n",
       "    .dataframe tbody tr th:only-of-type {\n",
       "        vertical-align: middle;\n",
       "    }\n",
       "\n",
       "    .dataframe tbody tr th {\n",
       "        vertical-align: top;\n",
       "    }\n",
       "\n",
       "    .dataframe thead th {\n",
       "        text-align: right;\n",
       "    }\n",
       "</style>\n",
       "<table border=\"1\" class=\"dataframe\">\n",
       "  <thead>\n",
       "    <tr style=\"text-align: right;\">\n",
       "      <th></th>\n",
       "      <th>date</th>\n",
       "      <th>Unnamed: 0</th>\n",
       "      <th>id</th>\n",
       "      <th>serial</th>\n",
       "      <th>last_modified_utc</th>\n",
       "      <th>i_power</th>\n",
       "      <th>i_boostpower</th>\n",
       "      <th>i_meterfeed</th>\n",
       "      <th>i_metercons</th>\n",
       "      <th>i_temp1</th>\n",
       "      <th>...</th>\n",
       "      <th>i_temp4</th>\n",
       "      <th>exported</th>\n",
       "      <th>power_consumption</th>\n",
       "      <th>on_off</th>\n",
       "      <th>thermal_consumption</th>\n",
       "      <th>thermal_consumption_kwh</th>\n",
       "      <th>mean_temperature</th>\n",
       "      <th>kwh_eq_state</th>\n",
       "      <th>demand_price</th>\n",
       "      <th>feedin_price</th>\n",
       "    </tr>\n",
       "  </thead>\n",
       "  <tbody>\n",
       "    <tr>\n",
       "      <th>0</th>\n",
       "      <td>2022-01-01 00:15:00</td>\n",
       "      <td>29004</td>\n",
       "      <td>72896886</td>\n",
       "      <td>2.001000e+15</td>\n",
       "      <td>1/1/2022 0:15</td>\n",
       "      <td>4</td>\n",
       "      <td>0</td>\n",
       "      <td>0</td>\n",
       "      <td>-2</td>\n",
       "      <td>557.0</td>\n",
       "      <td>...</td>\n",
       "      <td>0.0</td>\n",
       "      <td>0</td>\n",
       "      <td>0.0</td>\n",
       "      <td>1</td>\n",
       "      <td>0.000000</td>\n",
       "      <td>0.000000</td>\n",
       "      <td>47.066667</td>\n",
       "      <td>62.786933</td>\n",
       "      <td>0.40</td>\n",
       "      <td>0.133333</td>\n",
       "    </tr>\n",
       "    <tr>\n",
       "      <th>1</th>\n",
       "      <td>2022-01-01 00:30:00</td>\n",
       "      <td>29005</td>\n",
       "      <td>72899258</td>\n",
       "      <td>2.001000e+15</td>\n",
       "      <td>1/1/2022 0:30</td>\n",
       "      <td>0</td>\n",
       "      <td>0</td>\n",
       "      <td>0</td>\n",
       "      <td>0</td>\n",
       "      <td>556.0</td>\n",
       "      <td>...</td>\n",
       "      <td>0.0</td>\n",
       "      <td>0</td>\n",
       "      <td>0.0</td>\n",
       "      <td>0</td>\n",
       "      <td>-0.333333</td>\n",
       "      <td>-0.444667</td>\n",
       "      <td>46.800000</td>\n",
       "      <td>62.431200</td>\n",
       "      <td>0.40</td>\n",
       "      <td>0.133333</td>\n",
       "    </tr>\n",
       "    <tr>\n",
       "      <th>2</th>\n",
       "      <td>2022-01-01 00:45:00</td>\n",
       "      <td>29006</td>\n",
       "      <td>72902996</td>\n",
       "      <td>2.001000e+15</td>\n",
       "      <td>1/1/2022 0:46</td>\n",
       "      <td>0</td>\n",
       "      <td>0</td>\n",
       "      <td>0</td>\n",
       "      <td>0</td>\n",
       "      <td>555.0</td>\n",
       "      <td>...</td>\n",
       "      <td>0.0</td>\n",
       "      <td>0</td>\n",
       "      <td>0.0</td>\n",
       "      <td>0</td>\n",
       "      <td>-0.433333</td>\n",
       "      <td>-0.578067</td>\n",
       "      <td>46.366667</td>\n",
       "      <td>61.853133</td>\n",
       "      <td>0.40</td>\n",
       "      <td>0.133333</td>\n",
       "    </tr>\n",
       "    <tr>\n",
       "      <th>3</th>\n",
       "      <td>2022-01-01 01:00:00</td>\n",
       "      <td>29007</td>\n",
       "      <td>72904623</td>\n",
       "      <td>2.001000e+15</td>\n",
       "      <td>1/1/2022 1:00</td>\n",
       "      <td>0</td>\n",
       "      <td>0</td>\n",
       "      <td>0</td>\n",
       "      <td>0</td>\n",
       "      <td>554.0</td>\n",
       "      <td>...</td>\n",
       "      <td>0.0</td>\n",
       "      <td>0</td>\n",
       "      <td>0.0</td>\n",
       "      <td>0</td>\n",
       "      <td>-0.100000</td>\n",
       "      <td>-0.133400</td>\n",
       "      <td>46.266667</td>\n",
       "      <td>61.719733</td>\n",
       "      <td>0.30</td>\n",
       "      <td>0.100000</td>\n",
       "    </tr>\n",
       "    <tr>\n",
       "      <th>4</th>\n",
       "      <td>2022-01-01 01:15:00</td>\n",
       "      <td>29008</td>\n",
       "      <td>72908836</td>\n",
       "      <td>2.001000e+15</td>\n",
       "      <td>1/1/2022 1:16</td>\n",
       "      <td>0</td>\n",
       "      <td>0</td>\n",
       "      <td>0</td>\n",
       "      <td>0</td>\n",
       "      <td>553.0</td>\n",
       "      <td>...</td>\n",
       "      <td>0.0</td>\n",
       "      <td>0</td>\n",
       "      <td>0.0</td>\n",
       "      <td>0</td>\n",
       "      <td>-0.033333</td>\n",
       "      <td>-0.044467</td>\n",
       "      <td>46.233333</td>\n",
       "      <td>61.675267</td>\n",
       "      <td>0.30</td>\n",
       "      <td>0.100000</td>\n",
       "    </tr>\n",
       "    <tr>\n",
       "      <th>...</th>\n",
       "      <td>...</td>\n",
       "      <td>...</td>\n",
       "      <td>...</td>\n",
       "      <td>...</td>\n",
       "      <td>...</td>\n",
       "      <td>...</td>\n",
       "      <td>...</td>\n",
       "      <td>...</td>\n",
       "      <td>...</td>\n",
       "      <td>...</td>\n",
       "      <td>...</td>\n",
       "      <td>...</td>\n",
       "      <td>...</td>\n",
       "      <td>...</td>\n",
       "      <td>...</td>\n",
       "      <td>...</td>\n",
       "      <td>...</td>\n",
       "      <td>...</td>\n",
       "      <td>...</td>\n",
       "      <td>...</td>\n",
       "      <td>...</td>\n",
       "    </tr>\n",
       "    <tr>\n",
       "      <th>21809</th>\n",
       "      <td>2022-08-18 22:45:00</td>\n",
       "      <td>50813</td>\n",
       "      <td>152870777</td>\n",
       "      <td>2.001000e+15</td>\n",
       "      <td>8/18/2022 22:45</td>\n",
       "      <td>0</td>\n",
       "      <td>0</td>\n",
       "      <td>0</td>\n",
       "      <td>0</td>\n",
       "      <td>560.0</td>\n",
       "      <td>...</td>\n",
       "      <td>0.0</td>\n",
       "      <td>0</td>\n",
       "      <td>0.0</td>\n",
       "      <td>0</td>\n",
       "      <td>-0.033333</td>\n",
       "      <td>-0.044467</td>\n",
       "      <td>48.800000</td>\n",
       "      <td>65.099200</td>\n",
       "      <td>0.50</td>\n",
       "      <td>0.166667</td>\n",
       "    </tr>\n",
       "    <tr>\n",
       "      <th>21810</th>\n",
       "      <td>2022-08-18 23:00:00</td>\n",
       "      <td>50814</td>\n",
       "      <td>152876427</td>\n",
       "      <td>2.001000e+15</td>\n",
       "      <td>8/18/2022 23:01</td>\n",
       "      <td>0</td>\n",
       "      <td>0</td>\n",
       "      <td>0</td>\n",
       "      <td>0</td>\n",
       "      <td>559.0</td>\n",
       "      <td>...</td>\n",
       "      <td>0.0</td>\n",
       "      <td>0</td>\n",
       "      <td>0.0</td>\n",
       "      <td>0</td>\n",
       "      <td>-0.066667</td>\n",
       "      <td>-0.088933</td>\n",
       "      <td>48.733333</td>\n",
       "      <td>65.010267</td>\n",
       "      <td>0.35</td>\n",
       "      <td>0.116667</td>\n",
       "    </tr>\n",
       "    <tr>\n",
       "      <th>21811</th>\n",
       "      <td>2022-08-18 23:15:00</td>\n",
       "      <td>50815</td>\n",
       "      <td>152879638</td>\n",
       "      <td>2.001000e+15</td>\n",
       "      <td>8/18/2022 23:15</td>\n",
       "      <td>0</td>\n",
       "      <td>0</td>\n",
       "      <td>0</td>\n",
       "      <td>0</td>\n",
       "      <td>558.0</td>\n",
       "      <td>...</td>\n",
       "      <td>0.0</td>\n",
       "      <td>0</td>\n",
       "      <td>0.0</td>\n",
       "      <td>0</td>\n",
       "      <td>-0.066667</td>\n",
       "      <td>-0.088933</td>\n",
       "      <td>48.666667</td>\n",
       "      <td>64.921333</td>\n",
       "      <td>0.35</td>\n",
       "      <td>0.116667</td>\n",
       "    </tr>\n",
       "    <tr>\n",
       "      <th>21812</th>\n",
       "      <td>2022-08-18 23:30:00</td>\n",
       "      <td>50816</td>\n",
       "      <td>152881531</td>\n",
       "      <td>2.001000e+15</td>\n",
       "      <td>8/18/2022 23:30</td>\n",
       "      <td>0</td>\n",
       "      <td>0</td>\n",
       "      <td>0</td>\n",
       "      <td>0</td>\n",
       "      <td>557.0</td>\n",
       "      <td>...</td>\n",
       "      <td>0.0</td>\n",
       "      <td>0</td>\n",
       "      <td>0.0</td>\n",
       "      <td>0</td>\n",
       "      <td>-0.066667</td>\n",
       "      <td>-0.088933</td>\n",
       "      <td>48.600000</td>\n",
       "      <td>64.832400</td>\n",
       "      <td>0.35</td>\n",
       "      <td>0.116667</td>\n",
       "    </tr>\n",
       "    <tr>\n",
       "      <th>21813</th>\n",
       "      <td>2022-08-18 23:45:00</td>\n",
       "      <td>50817</td>\n",
       "      <td>152888003</td>\n",
       "      <td>2.001000e+15</td>\n",
       "      <td>8/18/2022 23:45</td>\n",
       "      <td>0</td>\n",
       "      <td>0</td>\n",
       "      <td>0</td>\n",
       "      <td>0</td>\n",
       "      <td>556.0</td>\n",
       "      <td>...</td>\n",
       "      <td>0.0</td>\n",
       "      <td>0</td>\n",
       "      <td>0.0</td>\n",
       "      <td>0</td>\n",
       "      <td>-0.100000</td>\n",
       "      <td>-0.133400</td>\n",
       "      <td>48.500000</td>\n",
       "      <td>64.699000</td>\n",
       "      <td>0.35</td>\n",
       "      <td>0.116667</td>\n",
       "    </tr>\n",
       "  </tbody>\n",
       "</table>\n",
       "<p>21814 rows × 47 columns</p>\n",
       "</div>"
      ],
      "text/plain": [
       "                      date  Unnamed: 0         id        serial  \\\n",
       "0      2022-01-01 00:15:00       29004   72896886  2.001000e+15   \n",
       "1      2022-01-01 00:30:00       29005   72899258  2.001000e+15   \n",
       "2      2022-01-01 00:45:00       29006   72902996  2.001000e+15   \n",
       "3      2022-01-01 01:00:00       29007   72904623  2.001000e+15   \n",
       "4      2022-01-01 01:15:00       29008   72908836  2.001000e+15   \n",
       "...                    ...         ...        ...           ...   \n",
       "21809  2022-08-18 22:45:00       50813  152870777  2.001000e+15   \n",
       "21810  2022-08-18 23:00:00       50814  152876427  2.001000e+15   \n",
       "21811  2022-08-18 23:15:00       50815  152879638  2.001000e+15   \n",
       "21812  2022-08-18 23:30:00       50816  152881531  2.001000e+15   \n",
       "21813  2022-08-18 23:45:00       50817  152888003  2.001000e+15   \n",
       "\n",
       "      last_modified_utc  i_power  i_boostpower  i_meterfeed  i_metercons  \\\n",
       "0         1/1/2022 0:15        4             0            0           -2   \n",
       "1         1/1/2022 0:30        0             0            0            0   \n",
       "2         1/1/2022 0:46        0             0            0            0   \n",
       "3         1/1/2022 1:00        0             0            0            0   \n",
       "4         1/1/2022 1:16        0             0            0            0   \n",
       "...                 ...      ...           ...          ...          ...   \n",
       "21809   8/18/2022 22:45        0             0            0            0   \n",
       "21810   8/18/2022 23:01        0             0            0            0   \n",
       "21811   8/18/2022 23:15        0             0            0            0   \n",
       "21812   8/18/2022 23:30        0             0            0            0   \n",
       "21813   8/18/2022 23:45        0             0            0            0   \n",
       "\n",
       "       i_temp1  ...  i_temp4  exported  power_consumption  on_off  \\\n",
       "0        557.0  ...      0.0         0                0.0       1   \n",
       "1        556.0  ...      0.0         0                0.0       0   \n",
       "2        555.0  ...      0.0         0                0.0       0   \n",
       "3        554.0  ...      0.0         0                0.0       0   \n",
       "4        553.0  ...      0.0         0                0.0       0   \n",
       "...        ...  ...      ...       ...                ...     ...   \n",
       "21809    560.0  ...      0.0         0                0.0       0   \n",
       "21810    559.0  ...      0.0         0                0.0       0   \n",
       "21811    558.0  ...      0.0         0                0.0       0   \n",
       "21812    557.0  ...      0.0         0                0.0       0   \n",
       "21813    556.0  ...      0.0         0                0.0       0   \n",
       "\n",
       "       thermal_consumption  thermal_consumption_kwh  mean_temperature  \\\n",
       "0                 0.000000                 0.000000         47.066667   \n",
       "1                -0.333333                -0.444667         46.800000   \n",
       "2                -0.433333                -0.578067         46.366667   \n",
       "3                -0.100000                -0.133400         46.266667   \n",
       "4                -0.033333                -0.044467         46.233333   \n",
       "...                    ...                      ...               ...   \n",
       "21809            -0.033333                -0.044467         48.800000   \n",
       "21810            -0.066667                -0.088933         48.733333   \n",
       "21811            -0.066667                -0.088933         48.666667   \n",
       "21812            -0.066667                -0.088933         48.600000   \n",
       "21813            -0.100000                -0.133400         48.500000   \n",
       "\n",
       "       kwh_eq_state  demand_price  feedin_price  \n",
       "0         62.786933          0.40      0.133333  \n",
       "1         62.431200          0.40      0.133333  \n",
       "2         61.853133          0.40      0.133333  \n",
       "3         61.719733          0.30      0.100000  \n",
       "4         61.675267          0.30      0.100000  \n",
       "...             ...           ...           ...  \n",
       "21809     65.099200          0.50      0.166667  \n",
       "21810     65.010267          0.35      0.116667  \n",
       "21811     64.921333          0.35      0.116667  \n",
       "21812     64.832400          0.35      0.116667  \n",
       "21813     64.699000          0.35      0.116667  \n",
       "\n",
       "[21814 rows x 47 columns]"
      ]
     },
     "execution_count": 10,
     "metadata": {},
     "output_type": "execute_result"
    }
   ],
   "source": []
  },
  {
   "cell_type": "code",
   "execution_count": 11,
   "metadata": {},
   "outputs": [
    {
     "name": "stdout",
     "output_type": "stream",
     "text": [
      "82.53013333333332\n"
     ]
    }
   ],
   "source": [
    "print(df.kwh_eq_state.max())"
   ]
  },
  {
   "cell_type": "code",
   "execution_count": 685,
   "metadata": {},
   "outputs": [],
   "source": [
    "max_storage_tank = 82.53\n",
    "optimum_storage = 50.00\n",
    "gamma = 0.05"
   ]
  },
  {
   "cell_type": "code",
   "execution_count": 686,
   "metadata": {},
   "outputs": [],
   "source": [
    "def step(s, thermal_consumption, a):\n",
    "    '''\n",
    "    action = [0; 82.53]\n",
    "    '''\n",
    "    cool_down = 0.1 \n",
    "    heat_increase = a - cool_down\n",
    "    s_1 = s + heat_increase - thermal_consumption\n",
    "    \n",
    "    if s_1 > max_storage_tank:\n",
    "        s_1 = max_storage_tank\n",
    "        \n",
    "    return s_1"
   ]
  },
  {
   "cell_type": "code",
   "execution_count": 687,
   "metadata": {},
   "outputs": [],
   "source": [
    "def reward(action, pv_excess, demand_price, feedin_price, power_consumption, thermal_consumption, state):\n",
    "    \n",
    "    kwh_increase = action\n",
    "    \n",
    "    if state+kwh_increase > max_storage_tank:\n",
    "        kwh_increase = max_storage_tank - state\n",
    "    \n",
    "    '''\n",
    "    \n",
    "    ! VORZEICHEN DER VARIABLEN !\n",
    "    \n",
    "    '''\n",
    "    diff = pv_excess - kwh_increase - power_consumption - thermal_consumption    \n",
    "        \n",
    "    if diff < 0:\n",
    "        reward = -(diff * demand_price + (kwh_increase - diff) * feedin_price)\n",
    "    else:\n",
    "        reward = -(kwh_increase * feedin_price)  + diff * feedin_price\n",
    "        \n",
    "    add_penalty=10\n",
    "    if state < 40.00:\n",
    "        reward= reward -add_penalty\n",
    "        \n",
    "    '''\n",
    "    PENALTY FOR DISTANCE TO OPTIMUM\n",
    "    '''\n",
    "    reward -= abs(state - optimum_storage)*gamma\n",
    "    \n",
    "    \n",
    "    return reward"
   ]
  },
  {
   "cell_type": "markdown",
   "metadata": {},
   "source": [
    "Develop Tree Storage"
   ]
  },
  {
   "cell_type": "code",
   "execution_count": 688,
   "metadata": {},
   "outputs": [
    {
     "data": {
      "text/plain": [
       "(array([0., 0., 1., ..., 1., 0., 1.]), 1048577)"
      ]
     },
     "execution_count": 688,
     "metadata": {},
     "output_type": "execute_result"
    }
   ],
   "source": [
    "levels = 19\n",
    "\n",
    "tree = np.array([0,11,13,2,8,4,20,3,8,20,11,5,4,10,9])\n",
    "\n",
    "\n",
    "tree = np.zeros(2**(levels+1)-1)\n",
    "\n",
    "\n",
    "tree[::2] =1\n",
    "tree = np.insert(tree, 0, 0)\n",
    "tree = np.insert(tree, 0, 0)\n",
    "\n",
    "\n",
    "\n",
    "res_sum = np.zeros(len(tree))\n",
    "states = np.zeros(len(tree))\n",
    "states[0] = 41.00\n",
    "\n",
    "tree, len(tree)"
   ]
  },
  {
   "cell_type": "code",
   "execution_count": 689,
   "metadata": {},
   "outputs": [
    {
     "name": "stdout",
     "output_type": "stream",
     "text": [
      "0 0\n",
      "1 1\n",
      "2 3\n",
      "3 7\n",
      "4 15\n",
      "5 31\n",
      "6 63\n",
      "7 127\n",
      "8 255\n",
      "9 511\n",
      "10 1023\n",
      "11 2047\n",
      "12 4095\n",
      "13 8191\n",
      "14 16383\n",
      "15 32767\n",
      "16 65535\n",
      "17 131071\n",
      "18 262143\n"
     ]
    }
   ],
   "source": [
    "nodes = 1\n",
    "run = 0\n",
    "for i in range(levels):    \n",
    "    print(i,run)\n",
    "    for n in range(nodes):\n",
    "        \n",
    "        i = run\n",
    "        root = tree[i]\n",
    "        result_root = res_sum[i]\n",
    "        state_root = states[i]\n",
    "        \n",
    "        \n",
    "        left = tree[i*2 +1]\n",
    "        right = tree[i*2 +2]\n",
    "        \n",
    "        \n",
    "        res_sum[i*2 +1] = result_root + reward(left, 2.5,0.4,0.1, 0.1,0.1, state_root)\n",
    "        res_sum[i*2 +2] = result_root + reward(right,2.5 ,0.4,0.1, 0.1,0.1, state_root)\n",
    "        \n",
    "        '''\n",
    "        step(s, thermal_consumption, a):\n",
    "        '''\n",
    "        \n",
    "        states[i*2 +1] = step(state_root, 0.1, left)\n",
    "        states[i*2 +2] = step(state_root, 0.1, right)\n",
    "        \n",
    "        \n",
    "        run +=1\n",
    "        \n",
    "    nodes *= 2"
   ]
  },
  {
   "cell_type": "code",
   "execution_count": 690,
   "metadata": {},
   "outputs": [
    {
     "name": "stdout",
     "output_type": "stream",
     "text": [
      "786240 786431\n"
     ]
    },
    {
     "data": {
      "text/plain": [
       "-0.9000000000000173"
      ]
     },
     "execution_count": 690,
     "metadata": {},
     "output_type": "execute_result"
    }
   ],
   "source": [
    "leaves = res_sum[262143:-3]\n",
    "\n",
    "\n",
    "print(leaves.argmax(), len(leaves))\n",
    "\n",
    "b_i = leaves.argmax() \n",
    "leaves.max()"
   ]
  },
  {
   "cell_type": "code",
   "execution_count": 691,
   "metadata": {},
   "outputs": [],
   "source": [
    "def backtrack_seq(tree, idx, levels):\n",
    "    seq = []\n",
    "    for i in range(levels):\n",
    "        action_tmp = tree[int(idx)]\n",
    "        \n",
    "        i_add = -1 if int(action_tmp) == 0 else -2\n",
    "        \n",
    "        idx = idx/2 + i_add\n",
    "        a = tree[int(idx)]\n",
    "        seq.append(a)\n",
    "    \n",
    "    return seq"
   ]
  },
  {
   "cell_type": "code",
   "execution_count": 692,
   "metadata": {},
   "outputs": [
    {
     "name": "stdout",
     "output_type": "stream",
     "text": [
      "sum rewards:  -0.9000000000000173\n",
      "idx:  786240\n",
      "[1.0, 0.0, 0.0, 0.0, 0.0, 1.0, 0.0, 1.0, 1.0, 1.0, 1.0, 1.0, 1.0, 1.0, 1.0, 1.0, 1.0, 0.0, 0.0] 12.0\n",
      "49.199999999999946\n"
     ]
    }
   ],
   "source": [
    "seq_ = backtrack_seq(tree, b_i+262143 , levels)\n",
    "print(\"sum rewards: \",leaves[b_i])\n",
    "print(\"idx: \", b_i)\n",
    "print(seq_, sum(seq_))\n",
    "print(states[b_i+262143])\n"
   ]
  },
  {
   "cell_type": "code",
   "execution_count": 693,
   "metadata": {},
   "outputs": [
    {
     "data": {
      "text/plain": [
       "array([ 0.  , -0.22, -0.42, ..., -3.24,  0.  ,  0.  ])"
      ]
     },
     "execution_count": 693,
     "metadata": {},
     "output_type": "execute_result"
    }
   ],
   "source": [
    "res_sum"
   ]
  },
  {
   "cell_type": "code",
   "execution_count": 695,
   "metadata": {},
   "outputs": [
    {
     "data": {
      "text/plain": [
       "49.2"
      ]
     },
     "execution_count": 695,
     "metadata": {},
     "output_type": "execute_result"
    }
   ],
   "source": [
    "x = 12\n",
    "41+x*0.8-(19-x)*0.2"
   ]
  },
  {
   "cell_type": "markdown",
   "metadata": {},
   "source": [
    "<h1>Backup Base Tree Storage</h1>"
   ]
  },
  {
   "cell_type": "code",
   "execution_count": 524,
   "metadata": {},
   "outputs": [],
   "source": [
    "levels = 3\n",
    "\n",
    "tree = np.array([0,11,13,2,8,4,20,3,8,20,11,5,4,10,9])\n",
    "tree = np.ones(2**4-1)\n",
    "\n",
    "res_sum = np.zeros(len(tree))\n"
   ]
  },
  {
   "cell_type": "code",
   "execution_count": 525,
   "metadata": {},
   "outputs": [],
   "source": [
    "nodes = 1\n",
    "run = 0\n",
    "for i in range(levels):    \n",
    "    for n in range(nodes):\n",
    "        \n",
    "        i = run\n",
    "        root = tree[i]\n",
    "        \n",
    "        \n",
    "        left = tree[i*2 +1]\n",
    "        right = tree[i*2 +2]\n",
    "\n",
    "        result_root = res_sum[i]\n",
    "\n",
    "\n",
    "        #print(i, root, left,right)\n",
    "        \n",
    "\n",
    "        res_sum[i*2 +1] = result_root + left\n",
    "        res_sum[i*2 +2] = result_root + right\n",
    "        \n",
    "        run +=1\n",
    "        \n",
    "    nodes *= 2"
   ]
  },
  {
   "cell_type": "code",
   "execution_count": 526,
   "metadata": {},
   "outputs": [
    {
     "name": "stdout",
     "output_type": "stream",
     "text": [
      "(15,)\n"
     ]
    },
    {
     "data": {
      "text/plain": [
       "array([0., 1., 1., 2., 2., 2., 2., 3., 3., 3., 3., 3., 3., 3., 3.])"
      ]
     },
     "execution_count": 526,
     "metadata": {},
     "output_type": "execute_result"
    }
   ],
   "source": [
    "print(res_sum.shape)\n",
    "res_sum[:100]"
   ]
  },
  {
   "cell_type": "code",
   "execution_count": 463,
   "metadata": {},
   "outputs": [],
   "source": [
    "def backtrack_seq(tree, idx, levels):\n",
    "    seq = []\n",
    "    for i in range(levels):\n",
    "        action_tmp = tree[int(idx)]\n",
    "        \n",
    "        i_add = -1 if int(action_tmp) == 0 else -2\n",
    "        \n",
    "        idx = idx/2-1\n",
    "        a = tree[int(idx)]\n",
    "        seq.append(a)\n",
    "    \n",
    "    return seq"
   ]
  },
  {
   "cell_type": "code",
   "execution_count": 464,
   "metadata": {},
   "outputs": [
    {
     "name": "stdout",
     "output_type": "stream",
     "text": [
      "[20, 13, 0]\n"
     ]
    }
   ],
   "source": [
    "print(backtrack_seq(tree, 14 , 3))\n"
   ]
  },
  {
   "cell_type": "code",
   "execution_count": 373,
   "metadata": {},
   "outputs": [
    {
     "data": {
      "text/plain": [
       "[1.0,\n",
       " 0.0,\n",
       " 0.0,\n",
       " 0.0,\n",
       " 0.0,\n",
       " 0.0,\n",
       " 0.0,\n",
       " 0.0,\n",
       " 1.0,\n",
       " 0.0,\n",
       " 0.0,\n",
       " 0.0,\n",
       " 0.0,\n",
       " 0.0,\n",
       " 0.0,\n",
       " 0.0,\n",
       " 0.0,\n",
       " 0.0,\n",
       " 0.0]"
      ]
     },
     "execution_count": 373,
     "metadata": {},
     "output_type": "execute_result"
    }
   ],
   "source": []
  },
  {
   "cell_type": "code",
   "execution_count": 684,
   "metadata": {},
   "outputs": [
    {
     "ename": "MemoryError",
     "evalue": "Unable to allocate 8.00 PiB for an array with shape (1125899906842624,) and data type float64",
     "output_type": "error",
     "traceback": [
      "\u001b[1;31m---------------------------------------------------------------------------\u001b[0m",
      "\u001b[1;31mMemoryError\u001b[0m                               Traceback (most recent call last)",
      "Input \u001b[1;32mIn [684]\u001b[0m, in \u001b[0;36m<cell line: 1>\u001b[1;34m()\u001b[0m\n\u001b[1;32m----> 1\u001b[0m \u001b[43mnp\u001b[49m\u001b[38;5;241;43m.\u001b[39;49m\u001b[43mones\u001b[49m\u001b[43m(\u001b[49m\u001b[38;5;241;43m2\u001b[39;49m\u001b[38;5;241;43m*\u001b[39;49m\u001b[38;5;241;43m*\u001b[39;49m\u001b[38;5;241;43m50\u001b[39;49m\u001b[43m)\u001b[49m\n",
      "File \u001b[1;32m~\\anaconda3\\lib\\site-packages\\numpy\\core\\numeric.py:204\u001b[0m, in \u001b[0;36mones\u001b[1;34m(shape, dtype, order, like)\u001b[0m\n\u001b[0;32m    201\u001b[0m \u001b[38;5;28;01mif\u001b[39;00m like \u001b[38;5;129;01mis\u001b[39;00m \u001b[38;5;129;01mnot\u001b[39;00m \u001b[38;5;28;01mNone\u001b[39;00m:\n\u001b[0;32m    202\u001b[0m     \u001b[38;5;28;01mreturn\u001b[39;00m _ones_with_like(shape, dtype\u001b[38;5;241m=\u001b[39mdtype, order\u001b[38;5;241m=\u001b[39morder, like\u001b[38;5;241m=\u001b[39mlike)\n\u001b[1;32m--> 204\u001b[0m a \u001b[38;5;241m=\u001b[39m \u001b[43mempty\u001b[49m\u001b[43m(\u001b[49m\u001b[43mshape\u001b[49m\u001b[43m,\u001b[49m\u001b[43m \u001b[49m\u001b[43mdtype\u001b[49m\u001b[43m,\u001b[49m\u001b[43m \u001b[49m\u001b[43morder\u001b[49m\u001b[43m)\u001b[49m\n\u001b[0;32m    205\u001b[0m multiarray\u001b[38;5;241m.\u001b[39mcopyto(a, \u001b[38;5;241m1\u001b[39m, casting\u001b[38;5;241m=\u001b[39m\u001b[38;5;124m'\u001b[39m\u001b[38;5;124munsafe\u001b[39m\u001b[38;5;124m'\u001b[39m)\n\u001b[0;32m    206\u001b[0m \u001b[38;5;28;01mreturn\u001b[39;00m a\n",
      "\u001b[1;31mMemoryError\u001b[0m: Unable to allocate 8.00 PiB for an array with shape (1125899906842624,) and data type float64"
     ]
    }
   ],
   "source": [
    "np.ones(2**50)"
   ]
  },
  {
   "cell_type": "code",
   "execution_count": null,
   "metadata": {},
   "outputs": [],
   "source": []
  }
 ],
 "metadata": {
  "kernelspec": {
   "display_name": "Python 3 (ipykernel)",
   "language": "python",
   "name": "python3"
  },
  "language_info": {
   "codemirror_mode": {
    "name": "ipython",
    "version": 3
   },
   "file_extension": ".py",
   "mimetype": "text/x-python",
   "name": "python",
   "nbconvert_exporter": "python",
   "pygments_lexer": "ipython3",
   "version": "3.9.12"
  },
  "vscode": {
   "interpreter": {
    "hash": "1335a209088fba08ed1ec7ee6e9c6b845cf55524ee893ab338ddd70a4ed03024"
   }
  }
 },
 "nbformat": 4,
 "nbformat_minor": 2
}
